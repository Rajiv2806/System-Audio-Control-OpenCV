{
 "cells": [
  {
   "cell_type": "markdown",
   "id": "4509ec5d-decb-4c8b-8ee5-927126e16d2f",
   "metadata": {},
   "source": [
    "# Controlling system Audio using your Fingers in Python and Computer vision"
   ]
  },
  {
   "cell_type": "code",
   "execution_count": 4,
   "id": "39deff25-2dba-430e-93cb-49c332171812",
   "metadata": {},
   "outputs": [],
   "source": [
    "import cv2\n",
    "import numpy as np\n",
    "from math import hypot\n",
    "import mediapipe as mp\n",
    "from comtypes import CLSCTX_ALL\n",
    "import matplotlib.pyplot as plt\n",
    "from ctypes import cast, POINTER\n",
    "from pycaw.pycaw import AudioUtilities, IAudioEndpointVolume"
   ]
  },
  {
   "cell_type": "code",
   "execution_count": 5,
   "id": "c08e6c86-ae06-47cc-88fc-fe56eb657ac1",
   "metadata": {},
   "outputs": [],
   "source": [
    "mpHands = mp.solutions.hands # detects hands/fingers\n",
    "\n",
    "hands = mpHands.Hands() # complete the initilization configuration for hands\n",
    "\n",
    "mpDraw = mp.solutions.drawing_utils"
   ]
  },
  {
   "cell_type": "code",
   "execution_count": 8,
   "id": "07dbed1d-3905-4b73-a6a8-c3dda589cefb",
   "metadata": {},
   "outputs": [
    {
     "data": {
      "text/plain": [
       "(-65.25, 0.0)"
      ]
     },
     "execution_count": 8,
     "metadata": {},
     "output_type": "execute_result"
    }
   ],
   "source": [
    "# To access speaker through the library pycaw\n",
    "devices = AudioUtilities.GetSpeakers()\n",
    "interface = devices.Activate(IAudioEndpointVolume._iid_, CLSCTX_ALL, None)\n",
    "\n",
    "volume = cast(interface, POINTER(IAudioEndpointVolume))\n",
    "\n",
    "volbar = 400\n",
    "volper = 0\n",
    "\n",
    "volMin, volMax = volume.GetVolumeRange()[:2]\n",
    "volMin, volMax"
   ]
  },
  {
   "cell_type": "code",
   "execution_count": 19,
   "id": "4ae3762c-b2c8-435f-b2c6-c0ce600f28e4",
   "metadata": {},
   "outputs": [],
   "source": [
    "cap = cv2.VideoCapture(0) # Checks for camera"
   ]
  },
  {
   "cell_type": "code",
   "execution_count": null,
   "id": "a7d2c440-aa6e-45c6-8d02-475f5914ceee",
   "metadata": {},
   "outputs": [],
   "source": [
    "while True:\n",
    "    success, img = cap.read() # if camera works captur image\n",
    "    imgRGB = cv2.cvtColor(img, cv2.COLOR_BGR2RGB)\n",
    "    \n",
    "    # plt.imshow(imgRGB)\n",
    "    \n",
    "    # collection of gesture information\n",
    "    results = hands.process(imgRGB)\n",
    "    \n",
    "    # empty list\n",
    "    lmList = [] \n",
    "\n",
    "    # List of all hands detected\n",
    "    if results.multi_hand_landmarks: \n",
    "        \n",
    "        # By accessing tje list, we can get the informationn of each hands corrosponding flag         \n",
    "        for handLandmark in results.multi_hand_landmarks:\n",
    "            # adding counter and returning it\n",
    "            for id, lm in enumerate(handLandmark.landmark):\n",
    "                # Get finger joint points\n",
    "                h,w,_ = img.shape\n",
    "                cx, cy = int(lm.x*w), int(lm.y*h)\n",
    "                # adding to the empty list 'lmList'\n",
    "                lmList.append([id,cx,cy])\n",
    "            mpDraw.draw_landmarks(img, handLandmark, mpHands.HAND_CONNECTIONS)\n",
    "        \n",
    "    if lmList != []:\n",
    "        # Getting the value at a point\n",
    "                    # x          # y\n",
    "        x1, y1 = lmList[4][1], lmList[4][2] # Thumb\n",
    "        x2, y2 = lmList[8][1], lmList[8][2] # Index\n",
    "        # creating circle at the tips of thumb and index finger\n",
    "        cv2.circle(img, (x1,y1),13,(255,0,0),cv2.FILLED) # image # finger # radius # rgb\n",
    "        cv2.circle(img, (x2,y2),13,(255,0,0),cv2.FILLED) # image # finger # radius # rgb\n",
    "        cv2.line(img,(x1,y1),(x2,y2),(255,0,0),3) # create a line b/w tips of index finger and\n",
    "        \n",
    "        length = hypot(x2-x1,y2-y1) # distance between tips using hypotenuse\n",
    "        \n",
    "        # from numpy we find our length by converting hand range in terms of volume range i.e. b/w -65.25, 0.0\n",
    "        \n",
    "        vol = np.interp(length, [30,350],[volMin, volMax])\n",
    "        volbar = np.interp(length, [30,350], [400, 150])\n",
    "        volper = np.interp(length, [30,350], [0, 100])\n",
    "        \n",
    "        # print(vol, int(length))\n",
    "        volume.SetMasterVolumeLevel(vol, None)\n",
    "        \n",
    "        # Hand range 30 - 350\n",
    "        # Volume range -63.5 - 0\n",
    "        # creating volume bar for volume level.\n",
    "        cv2.rectangle(img, (50,150), (85,400),(0,0,255),4) # vid, initial position, ending position\n",
    "        cv2.rectangle(img, (50, int(volbar)),(85,400),(0,0,255),cv2.FILLED)\n",
    "        cv2.putText(img, f\"{int(volper)}%\", (10,40), cv2.FONT_ITALIC, 1, (0,255,98), 3)\n",
    "        # tell the volume percent, location, font of text, length, rgb color, thickness\n",
    "    cv2.imshow(\"Image\", img) # show the video\n",
    "    # by using space bar delay will stop\n",
    "    if cv2.waitKey(1) & 0xff==ord(' '):\n",
    "        break\n",
    "        \n",
    "        \n",
    "# stop video capture\n",
    "cap.release()\n",
    "# close window\n",
    "cv2.destroyAllWindows()    "
   ]
  }
 ],
 "metadata": {
  "kernelspec": {
   "display_name": "Python 3",
   "language": "python",
   "name": "python3"
  },
  "language_info": {
   "codemirror_mode": {
    "name": "ipython",
    "version": 3
   },
   "file_extension": ".py",
   "mimetype": "text/x-python",
   "name": "python",
   "nbconvert_exporter": "python",
   "pygments_lexer": "ipython3",
   "version": "3.8.8"
  }
 },
 "nbformat": 4,
 "nbformat_minor": 5
}
